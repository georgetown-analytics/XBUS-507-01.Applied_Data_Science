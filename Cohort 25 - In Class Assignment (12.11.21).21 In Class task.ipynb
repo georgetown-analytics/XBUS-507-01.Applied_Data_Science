{
 "cells": [
  {
   "cell_type": "markdown",
   "id": "e88514ca",
   "metadata": {},
   "source": [
    "Cohort 25 - In Class Assignment\n",
    "\n",
    "Source: https://archive.ics.uci.edu/ml/datasets/Estimation+of+obesity+levels+based+on+eating+habits+and+physical+condition+"
   ]
  },
  {
   "cell_type": "code",
   "execution_count": 1,
   "id": "7f4f8dbc",
   "metadata": {},
   "outputs": [],
   "source": [
    "#Importing relevant libraries\n",
    "\n",
    "import pandas as pd\n",
    "import numpy as np\n",
    "from sklearn.preprocessing import StandardScaler"
   ]
  },
  {
   "cell_type": "code",
   "execution_count": 2,
   "id": "2718430d",
   "metadata": {},
   "outputs": [],
   "source": [
    "#Import data from csv\n",
    "\n",
    "data = pd.read_csv('ObesityDataSet_raw_and_data_sinthetic.csv')"
   ]
  },
  {
   "cell_type": "code",
   "execution_count": 3,
   "id": "f1e5ec11",
   "metadata": {},
   "outputs": [
    {
     "data": {
      "text/html": [
       "<div>\n",
       "<style scoped>\n",
       "    .dataframe tbody tr th:only-of-type {\n",
       "        vertical-align: middle;\n",
       "    }\n",
       "\n",
       "    .dataframe tbody tr th {\n",
       "        vertical-align: top;\n",
       "    }\n",
       "\n",
       "    .dataframe thead th {\n",
       "        text-align: right;\n",
       "    }\n",
       "</style>\n",
       "<table border=\"1\" class=\"dataframe\">\n",
       "  <thead>\n",
       "    <tr style=\"text-align: right;\">\n",
       "      <th></th>\n",
       "      <th>Gender</th>\n",
       "      <th>Age</th>\n",
       "      <th>Height</th>\n",
       "      <th>Weight</th>\n",
       "      <th>family_history_with_overweight</th>\n",
       "      <th>FAVC</th>\n",
       "      <th>FCVC</th>\n",
       "      <th>NCP</th>\n",
       "      <th>CAEC</th>\n",
       "      <th>SMOKE</th>\n",
       "      <th>CH2O</th>\n",
       "      <th>SCC</th>\n",
       "      <th>FAF</th>\n",
       "      <th>TUE</th>\n",
       "      <th>CALC</th>\n",
       "      <th>MTRANS</th>\n",
       "      <th>NObeyesdad</th>\n",
       "    </tr>\n",
       "  </thead>\n",
       "  <tbody>\n",
       "    <tr>\n",
       "      <th>0</th>\n",
       "      <td>Female</td>\n",
       "      <td>21.0</td>\n",
       "      <td>1.62</td>\n",
       "      <td>64.0</td>\n",
       "      <td>yes</td>\n",
       "      <td>no</td>\n",
       "      <td>2.0</td>\n",
       "      <td>3.0</td>\n",
       "      <td>Sometimes</td>\n",
       "      <td>no</td>\n",
       "      <td>2.0</td>\n",
       "      <td>no</td>\n",
       "      <td>0.0</td>\n",
       "      <td>1.0</td>\n",
       "      <td>no</td>\n",
       "      <td>Public_Transportation</td>\n",
       "      <td>Normal_Weight</td>\n",
       "    </tr>\n",
       "    <tr>\n",
       "      <th>1</th>\n",
       "      <td>Female</td>\n",
       "      <td>21.0</td>\n",
       "      <td>1.52</td>\n",
       "      <td>56.0</td>\n",
       "      <td>yes</td>\n",
       "      <td>no</td>\n",
       "      <td>3.0</td>\n",
       "      <td>3.0</td>\n",
       "      <td>Sometimes</td>\n",
       "      <td>yes</td>\n",
       "      <td>3.0</td>\n",
       "      <td>yes</td>\n",
       "      <td>3.0</td>\n",
       "      <td>0.0</td>\n",
       "      <td>Sometimes</td>\n",
       "      <td>Public_Transportation</td>\n",
       "      <td>Normal_Weight</td>\n",
       "    </tr>\n",
       "    <tr>\n",
       "      <th>2</th>\n",
       "      <td>Male</td>\n",
       "      <td>23.0</td>\n",
       "      <td>1.80</td>\n",
       "      <td>77.0</td>\n",
       "      <td>yes</td>\n",
       "      <td>no</td>\n",
       "      <td>2.0</td>\n",
       "      <td>3.0</td>\n",
       "      <td>Sometimes</td>\n",
       "      <td>no</td>\n",
       "      <td>2.0</td>\n",
       "      <td>no</td>\n",
       "      <td>2.0</td>\n",
       "      <td>1.0</td>\n",
       "      <td>Frequently</td>\n",
       "      <td>Public_Transportation</td>\n",
       "      <td>Normal_Weight</td>\n",
       "    </tr>\n",
       "    <tr>\n",
       "      <th>3</th>\n",
       "      <td>Male</td>\n",
       "      <td>27.0</td>\n",
       "      <td>1.80</td>\n",
       "      <td>87.0</td>\n",
       "      <td>no</td>\n",
       "      <td>no</td>\n",
       "      <td>3.0</td>\n",
       "      <td>3.0</td>\n",
       "      <td>Sometimes</td>\n",
       "      <td>no</td>\n",
       "      <td>2.0</td>\n",
       "      <td>no</td>\n",
       "      <td>2.0</td>\n",
       "      <td>0.0</td>\n",
       "      <td>Frequently</td>\n",
       "      <td>Walking</td>\n",
       "      <td>Overweight_Level_I</td>\n",
       "    </tr>\n",
       "    <tr>\n",
       "      <th>4</th>\n",
       "      <td>Male</td>\n",
       "      <td>22.0</td>\n",
       "      <td>1.78</td>\n",
       "      <td>89.8</td>\n",
       "      <td>no</td>\n",
       "      <td>no</td>\n",
       "      <td>2.0</td>\n",
       "      <td>1.0</td>\n",
       "      <td>Sometimes</td>\n",
       "      <td>no</td>\n",
       "      <td>2.0</td>\n",
       "      <td>no</td>\n",
       "      <td>0.0</td>\n",
       "      <td>0.0</td>\n",
       "      <td>Sometimes</td>\n",
       "      <td>Public_Transportation</td>\n",
       "      <td>Overweight_Level_II</td>\n",
       "    </tr>\n",
       "    <tr>\n",
       "      <th>...</th>\n",
       "      <td>...</td>\n",
       "      <td>...</td>\n",
       "      <td>...</td>\n",
       "      <td>...</td>\n",
       "      <td>...</td>\n",
       "      <td>...</td>\n",
       "      <td>...</td>\n",
       "      <td>...</td>\n",
       "      <td>...</td>\n",
       "      <td>...</td>\n",
       "      <td>...</td>\n",
       "      <td>...</td>\n",
       "      <td>...</td>\n",
       "      <td>...</td>\n",
       "      <td>...</td>\n",
       "      <td>...</td>\n",
       "      <td>...</td>\n",
       "    </tr>\n",
       "    <tr>\n",
       "      <th>95</th>\n",
       "      <td>Male</td>\n",
       "      <td>26.0</td>\n",
       "      <td>1.70</td>\n",
       "      <td>70.0</td>\n",
       "      <td>yes</td>\n",
       "      <td>no</td>\n",
       "      <td>3.0</td>\n",
       "      <td>1.0</td>\n",
       "      <td>Frequently</td>\n",
       "      <td>no</td>\n",
       "      <td>2.0</td>\n",
       "      <td>no</td>\n",
       "      <td>2.0</td>\n",
       "      <td>0.0</td>\n",
       "      <td>Frequently</td>\n",
       "      <td>Public_Transportation</td>\n",
       "      <td>Normal_Weight</td>\n",
       "    </tr>\n",
       "    <tr>\n",
       "      <th>96</th>\n",
       "      <td>Female</td>\n",
       "      <td>23.0</td>\n",
       "      <td>1.66</td>\n",
       "      <td>60.0</td>\n",
       "      <td>yes</td>\n",
       "      <td>no</td>\n",
       "      <td>2.0</td>\n",
       "      <td>3.0</td>\n",
       "      <td>Sometimes</td>\n",
       "      <td>no</td>\n",
       "      <td>2.0</td>\n",
       "      <td>no</td>\n",
       "      <td>3.0</td>\n",
       "      <td>0.0</td>\n",
       "      <td>Sometimes</td>\n",
       "      <td>Public_Transportation</td>\n",
       "      <td>Normal_Weight</td>\n",
       "    </tr>\n",
       "    <tr>\n",
       "      <th>97</th>\n",
       "      <td>Female</td>\n",
       "      <td>21.0</td>\n",
       "      <td>1.52</td>\n",
       "      <td>42.0</td>\n",
       "      <td>no</td>\n",
       "      <td>no</td>\n",
       "      <td>3.0</td>\n",
       "      <td>1.0</td>\n",
       "      <td>Frequently</td>\n",
       "      <td>no</td>\n",
       "      <td>1.0</td>\n",
       "      <td>no</td>\n",
       "      <td>0.0</td>\n",
       "      <td>0.0</td>\n",
       "      <td>Sometimes</td>\n",
       "      <td>Public_Transportation</td>\n",
       "      <td>Insufficient_Weight</td>\n",
       "    </tr>\n",
       "    <tr>\n",
       "      <th>98</th>\n",
       "      <td>Female</td>\n",
       "      <td>21.0</td>\n",
       "      <td>1.52</td>\n",
       "      <td>42.0</td>\n",
       "      <td>no</td>\n",
       "      <td>no</td>\n",
       "      <td>3.0</td>\n",
       "      <td>1.0</td>\n",
       "      <td>Frequently</td>\n",
       "      <td>no</td>\n",
       "      <td>1.0</td>\n",
       "      <td>no</td>\n",
       "      <td>0.0</td>\n",
       "      <td>0.0</td>\n",
       "      <td>Sometimes</td>\n",
       "      <td>Public_Transportation</td>\n",
       "      <td>Insufficient_Weight</td>\n",
       "    </tr>\n",
       "    <tr>\n",
       "      <th>99</th>\n",
       "      <td>Male</td>\n",
       "      <td>23.0</td>\n",
       "      <td>1.72</td>\n",
       "      <td>70.0</td>\n",
       "      <td>no</td>\n",
       "      <td>no</td>\n",
       "      <td>2.0</td>\n",
       "      <td>3.0</td>\n",
       "      <td>Sometimes</td>\n",
       "      <td>no</td>\n",
       "      <td>2.0</td>\n",
       "      <td>no</td>\n",
       "      <td>3.0</td>\n",
       "      <td>1.0</td>\n",
       "      <td>Frequently</td>\n",
       "      <td>Public_Transportation</td>\n",
       "      <td>Normal_Weight</td>\n",
       "    </tr>\n",
       "  </tbody>\n",
       "</table>\n",
       "<p>100 rows × 17 columns</p>\n",
       "</div>"
      ],
      "text/plain": [
       "    Gender   Age  Height  Weight family_history_with_overweight FAVC  FCVC  \\\n",
       "0   Female  21.0    1.62    64.0                            yes   no   2.0   \n",
       "1   Female  21.0    1.52    56.0                            yes   no   3.0   \n",
       "2     Male  23.0    1.80    77.0                            yes   no   2.0   \n",
       "3     Male  27.0    1.80    87.0                             no   no   3.0   \n",
       "4     Male  22.0    1.78    89.8                             no   no   2.0   \n",
       "..     ...   ...     ...     ...                            ...  ...   ...   \n",
       "95    Male  26.0    1.70    70.0                            yes   no   3.0   \n",
       "96  Female  23.0    1.66    60.0                            yes   no   2.0   \n",
       "97  Female  21.0    1.52    42.0                             no   no   3.0   \n",
       "98  Female  21.0    1.52    42.0                             no   no   3.0   \n",
       "99    Male  23.0    1.72    70.0                             no   no   2.0   \n",
       "\n",
       "    NCP        CAEC SMOKE  CH2O  SCC  FAF  TUE        CALC  \\\n",
       "0   3.0   Sometimes    no   2.0   no  0.0  1.0          no   \n",
       "1   3.0   Sometimes   yes   3.0  yes  3.0  0.0   Sometimes   \n",
       "2   3.0   Sometimes    no   2.0   no  2.0  1.0  Frequently   \n",
       "3   3.0   Sometimes    no   2.0   no  2.0  0.0  Frequently   \n",
       "4   1.0   Sometimes    no   2.0   no  0.0  0.0   Sometimes   \n",
       "..  ...         ...   ...   ...  ...  ...  ...         ...   \n",
       "95  1.0  Frequently    no   2.0   no  2.0  0.0  Frequently   \n",
       "96  3.0   Sometimes    no   2.0   no  3.0  0.0   Sometimes   \n",
       "97  1.0  Frequently    no   1.0   no  0.0  0.0   Sometimes   \n",
       "98  1.0  Frequently    no   1.0   no  0.0  0.0   Sometimes   \n",
       "99  3.0   Sometimes    no   2.0   no  3.0  1.0  Frequently   \n",
       "\n",
       "                   MTRANS           NObeyesdad  \n",
       "0   Public_Transportation        Normal_Weight  \n",
       "1   Public_Transportation        Normal_Weight  \n",
       "2   Public_Transportation        Normal_Weight  \n",
       "3                 Walking   Overweight_Level_I  \n",
       "4   Public_Transportation  Overweight_Level_II  \n",
       "..                    ...                  ...  \n",
       "95  Public_Transportation        Normal_Weight  \n",
       "96  Public_Transportation        Normal_Weight  \n",
       "97  Public_Transportation  Insufficient_Weight  \n",
       "98  Public_Transportation  Insufficient_Weight  \n",
       "99  Public_Transportation        Normal_Weight  \n",
       "\n",
       "[100 rows x 17 columns]"
      ]
     },
     "execution_count": 3,
     "metadata": {},
     "output_type": "execute_result"
    }
   ],
   "source": [
    "#Reading data head\n",
    "\n",
    "data.head(100)"
   ]
  },
  {
   "cell_type": "code",
   "execution_count": 4,
   "id": "d3db4c1b",
   "metadata": {},
   "outputs": [
    {
     "data": {
      "text/plain": [
       "(2111, 17)"
      ]
     },
     "execution_count": 4,
     "metadata": {},
     "output_type": "execute_result"
    }
   ],
   "source": [
    "#Reading data shape\n",
    "\n",
    "data.shape"
   ]
  },
  {
   "cell_type": "code",
   "execution_count": 5,
   "id": "07eb50b3",
   "metadata": {},
   "outputs": [
    {
     "name": "stdout",
     "output_type": "stream",
     "text": [
      "<class 'pandas.core.frame.DataFrame'>\n",
      "RangeIndex: 2111 entries, 0 to 2110\n",
      "Data columns (total 17 columns):\n",
      " #   Column                          Non-Null Count  Dtype  \n",
      "---  ------                          --------------  -----  \n",
      " 0   Gender                          2111 non-null   object \n",
      " 1   Age                             2111 non-null   float64\n",
      " 2   Height                          2111 non-null   float64\n",
      " 3   Weight                          2111 non-null   float64\n",
      " 4   family_history_with_overweight  2111 non-null   object \n",
      " 5   FAVC                            2111 non-null   object \n",
      " 6   FCVC                            2111 non-null   float64\n",
      " 7   NCP                             2111 non-null   float64\n",
      " 8   CAEC                            2111 non-null   object \n",
      " 9   SMOKE                           2111 non-null   object \n",
      " 10  CH2O                            2111 non-null   float64\n",
      " 11  SCC                             2111 non-null   object \n",
      " 12  FAF                             2111 non-null   float64\n",
      " 13  TUE                             2111 non-null   float64\n",
      " 14  CALC                            2111 non-null   object \n",
      " 15  MTRANS                          2111 non-null   object \n",
      " 16  NObeyesdad                      2111 non-null   object \n",
      "dtypes: float64(8), object(9)\n",
      "memory usage: 280.5+ KB\n"
     ]
    }
   ],
   "source": [
    "#Understanding data types\n",
    "\n",
    "data.info()"
   ]
  },
  {
   "cell_type": "code",
   "execution_count": 6,
   "id": "3ba991d6",
   "metadata": {},
   "outputs": [],
   "source": [
    "#Importing libraries to convert objects to numeric values\n",
    "\n",
    "from sklearn import preprocessing\n",
    "le = preprocessing.LabelEncoder()"
   ]
  },
  {
   "cell_type": "code",
   "execution_count": 7,
   "id": "83c2e594",
   "metadata": {},
   "outputs": [],
   "source": [
    "#Converting gender feature from string to float/int\n",
    "\n",
    "data['Gender'] = le.fit_transform(data['Gender'])"
   ]
  },
  {
   "cell_type": "code",
   "execution_count": 8,
   "id": "f155a805",
   "metadata": {},
   "outputs": [],
   "source": [
    "#Converting family_history_with_overweigh feature from string to float/int\n",
    "\n",
    "data['family_history_with_overweight'] = le.fit_transform(data['family_history_with_overweight'])"
   ]
  },
  {
   "cell_type": "code",
   "execution_count": 9,
   "id": "0a7d50b3",
   "metadata": {},
   "outputs": [],
   "source": [
    "#Converting CAEC feature from string to float/int\n",
    "\n",
    "data['CAEC'] = le.fit_transform(data['CAEC'])"
   ]
  },
  {
   "cell_type": "code",
   "execution_count": 10,
   "id": "f3c30684",
   "metadata": {},
   "outputs": [],
   "source": [
    "#Converting SMOKE feature from string to float/int\n",
    "\n",
    "data['SMOKE'] = le.fit_transform(data['SMOKE'])"
   ]
  },
  {
   "cell_type": "code",
   "execution_count": 11,
   "id": "7504e0b2",
   "metadata": {},
   "outputs": [],
   "source": [
    "#Converting SCC feature from string to float/int\n",
    "\n",
    "data['SCC'] = le.fit_transform(data['SCC'])"
   ]
  },
  {
   "cell_type": "code",
   "execution_count": 12,
   "id": "eee0725e",
   "metadata": {},
   "outputs": [],
   "source": [
    "#Converting MTRANS feature from string to float/int\n",
    "\n",
    "data['MTRANS'] = le.fit_transform(data['MTRANS'])"
   ]
  },
  {
   "cell_type": "code",
   "execution_count": 13,
   "id": "51e53c59",
   "metadata": {},
   "outputs": [],
   "source": [
    "#Converting NObeyesdad feature from string to float/int\n",
    "\n",
    "data['NObeyesdad'] = le.fit_transform(data['NObeyesdad'])"
   ]
  },
  {
   "cell_type": "code",
   "execution_count": 14,
   "id": "101715e6",
   "metadata": {},
   "outputs": [],
   "source": [
    "#Converting CALC feature from string to float/int\n",
    "\n",
    "data['CALC'] = le.fit_transform(data['CALC'])"
   ]
  },
  {
   "cell_type": "code",
   "execution_count": 15,
   "id": "af767ee4",
   "metadata": {},
   "outputs": [],
   "source": [
    "#Converting feature from string to float/int\n",
    "\n",
    "data['CAEC'] = le.fit_transform(data['CAEC'])"
   ]
  },
  {
   "cell_type": "code",
   "execution_count": 16,
   "id": "73d47b0a",
   "metadata": {},
   "outputs": [],
   "source": [
    "#Converting FAVC feature from string to float/int\n",
    "\n",
    "data['FAVC'] = le.fit_transform(data['FAVC'])                            "
   ]
  },
  {
   "cell_type": "code",
   "execution_count": 17,
   "id": "392f8641",
   "metadata": {},
   "outputs": [
    {
     "data": {
      "text/plain": [
       "Gender                            0\n",
       "Age                               0\n",
       "Height                            0\n",
       "Weight                            0\n",
       "family_history_with_overweight    0\n",
       "FAVC                              0\n",
       "FCVC                              0\n",
       "NCP                               0\n",
       "CAEC                              0\n",
       "SMOKE                             0\n",
       "CH2O                              0\n",
       "SCC                               0\n",
       "FAF                               0\n",
       "TUE                               0\n",
       "CALC                              0\n",
       "MTRANS                            0\n",
       "NObeyesdad                        0\n",
       "dtype: int64"
      ]
     },
     "execution_count": 17,
     "metadata": {},
     "output_type": "execute_result"
    }
   ],
   "source": [
    "#Identifying missing values\n",
    "\n",
    "data.isnull().sum()"
   ]
  },
  {
   "cell_type": "code",
   "execution_count": 18,
   "id": "62d7cbe7",
   "metadata": {},
   "outputs": [],
   "source": [
    "#Dropping feature (Weight) as it may contribute to leakage\n",
    "\n",
    "data = data.drop(['Weight'],axis=1)"
   ]
  },
  {
   "cell_type": "code",
   "execution_count": 19,
   "id": "bf964b50",
   "metadata": {},
   "outputs": [
    {
     "data": {
      "text/plain": [
       "(2111, 16)"
      ]
     },
     "execution_count": 19,
     "metadata": {},
     "output_type": "execute_result"
    }
   ],
   "source": [
    "#Re-reading data shape\n",
    "\n",
    "data.shape"
   ]
  },
  {
   "cell_type": "code",
   "execution_count": 20,
   "id": "1a34855a",
   "metadata": {},
   "outputs": [],
   "source": [
    "#Defining variables y equals independent variable column and x equals all other remaining predictor variables\n",
    "X = data.loc[:, data.columns != 'NObeyesdad']\n",
    "y = data.iloc[:, 0]"
   ]
  },
  {
   "cell_type": "code",
   "execution_count": 21,
   "id": "9fa580e8",
   "metadata": {},
   "outputs": [],
   "source": [
    "# Splitting the dataset into the Training set and Test set\n",
    "from sklearn.model_selection import train_test_split\n",
    "X_train, X_test, y_train, y_test = train_test_split(X, y, test_size = 0.2, random_state = 0)"
   ]
  },
  {
   "cell_type": "code",
   "execution_count": 22,
   "id": "0b9cf889",
   "metadata": {},
   "outputs": [],
   "source": [
    "#Using standard scaler to scales each feature/variable to unit variance.\n",
    "\n",
    "sc = StandardScaler()\n",
    "X_train = sc.fit_transform(X_train)\n",
    "X_test = sc.fit_transform(X_test)"
   ]
  },
  {
   "cell_type": "code",
   "execution_count": 23,
   "id": "1dceee4e",
   "metadata": {},
   "outputs": [
    {
     "data": {
      "text/plain": [
       "LinearRegression(copy_X=True, fit_intercept=True, n_jobs=None, normalize=False)"
      ]
     },
     "execution_count": 23,
     "metadata": {},
     "output_type": "execute_result"
    }
   ],
   "source": [
    "# Fitting Linear Regression to the Training set\n",
    "from sklearn.linear_model import LinearRegression\n",
    "regressor = LinearRegression()\n",
    "regressor.fit(X_train, y_train)"
   ]
  },
  {
   "cell_type": "code",
   "execution_count": 24,
   "id": "80d06910",
   "metadata": {},
   "outputs": [],
   "source": [
    "# Predicting the Test set results\n",
    "y_pred = regressor.predict(X_test)"
   ]
  },
  {
   "cell_type": "code",
   "execution_count": 25,
   "id": "8b33eeff",
   "metadata": {},
   "outputs": [
    {
     "data": {
      "text/plain": [
       "array([1.06699828, 0.0634428 , 1.06699828, 0.0634428 , 0.0634428 ,\n",
       "       1.06699828, 1.06699828, 0.0634428 , 0.0634428 , 1.06699828,\n",
       "       0.0634428 , 0.0634428 , 0.0634428 , 1.06699828, 0.0634428 ,\n",
       "       1.06699828, 1.06699828, 0.0634428 , 0.0634428 , 1.06699828,\n",
       "       0.0634428 , 1.06699828, 1.06699828, 0.0634428 , 1.06699828,\n",
       "       1.06699828, 0.0634428 , 1.06699828, 1.06699828, 1.06699828,\n",
       "       1.06699828, 0.0634428 , 1.06699828, 0.0634428 , 1.06699828,\n",
       "       0.0634428 , 1.06699828, 1.06699828, 0.0634428 , 0.0634428 ,\n",
       "       0.0634428 , 1.06699828, 0.0634428 , 0.0634428 , 0.0634428 ,\n",
       "       1.06699828, 1.06699828, 0.0634428 , 0.0634428 , 0.0634428 ,\n",
       "       1.06699828, 1.06699828, 1.06699828, 0.0634428 , 1.06699828,\n",
       "       1.06699828, 0.0634428 , 0.0634428 , 1.06699828, 0.0634428 ,\n",
       "       1.06699828, 0.0634428 , 0.0634428 , 0.0634428 , 0.0634428 ,\n",
       "       1.06699828, 1.06699828, 0.0634428 , 1.06699828, 0.0634428 ,\n",
       "       0.0634428 , 0.0634428 , 1.06699828, 0.0634428 , 1.06699828,\n",
       "       0.0634428 , 0.0634428 , 1.06699828, 1.06699828, 1.06699828,\n",
       "       0.0634428 , 1.06699828, 1.06699828, 0.0634428 , 1.06699828,\n",
       "       1.06699828, 0.0634428 , 1.06699828, 0.0634428 , 1.06699828,\n",
       "       1.06699828, 1.06699828, 0.0634428 , 1.06699828, 1.06699828,\n",
       "       0.0634428 , 0.0634428 , 1.06699828, 1.06699828, 1.06699828,\n",
       "       0.0634428 , 0.0634428 , 1.06699828, 0.0634428 , 0.0634428 ,\n",
       "       0.0634428 , 1.06699828, 0.0634428 , 0.0634428 , 0.0634428 ,\n",
       "       0.0634428 , 1.06699828, 0.0634428 , 1.06699828, 1.06699828,\n",
       "       1.06699828, 1.06699828, 1.06699828, 1.06699828, 0.0634428 ,\n",
       "       1.06699828, 0.0634428 , 0.0634428 , 0.0634428 , 0.0634428 ,\n",
       "       1.06699828, 0.0634428 , 0.0634428 , 0.0634428 , 1.06699828,\n",
       "       0.0634428 , 1.06699828, 0.0634428 , 1.06699828, 1.06699828,\n",
       "       0.0634428 , 1.06699828, 1.06699828, 0.0634428 , 1.06699828,\n",
       "       1.06699828, 0.0634428 , 0.0634428 , 1.06699828, 0.0634428 ,\n",
       "       0.0634428 , 1.06699828, 1.06699828, 0.0634428 , 1.06699828,\n",
       "       0.0634428 , 0.0634428 , 0.0634428 , 0.0634428 , 0.0634428 ,\n",
       "       0.0634428 , 0.0634428 , 0.0634428 , 1.06699828, 0.0634428 ,\n",
       "       0.0634428 , 0.0634428 , 0.0634428 , 0.0634428 , 0.0634428 ,\n",
       "       0.0634428 , 1.06699828, 1.06699828, 0.0634428 , 0.0634428 ,\n",
       "       0.0634428 , 1.06699828, 0.0634428 , 1.06699828, 0.0634428 ,\n",
       "       1.06699828, 1.06699828, 0.0634428 , 0.0634428 , 1.06699828,\n",
       "       0.0634428 , 0.0634428 , 0.0634428 , 0.0634428 , 0.0634428 ,\n",
       "       0.0634428 , 0.0634428 , 1.06699828, 1.06699828, 0.0634428 ,\n",
       "       0.0634428 , 1.06699828, 1.06699828, 0.0634428 , 0.0634428 ,\n",
       "       0.0634428 , 1.06699828, 1.06699828, 0.0634428 , 1.06699828,\n",
       "       0.0634428 , 0.0634428 , 0.0634428 , 0.0634428 , 1.06699828,\n",
       "       1.06699828, 1.06699828, 0.0634428 , 1.06699828, 0.0634428 ,\n",
       "       0.0634428 , 0.0634428 , 0.0634428 , 1.06699828, 1.06699828,\n",
       "       1.06699828, 1.06699828, 0.0634428 , 0.0634428 , 0.0634428 ,\n",
       "       1.06699828, 0.0634428 , 0.0634428 , 0.0634428 , 0.0634428 ,\n",
       "       0.0634428 , 1.06699828, 1.06699828, 1.06699828, 0.0634428 ,\n",
       "       0.0634428 , 0.0634428 , 1.06699828, 0.0634428 , 0.0634428 ,\n",
       "       1.06699828, 1.06699828, 1.06699828, 0.0634428 , 0.0634428 ,\n",
       "       0.0634428 , 0.0634428 , 0.0634428 , 0.0634428 , 1.06699828,\n",
       "       0.0634428 , 1.06699828, 0.0634428 , 1.06699828, 0.0634428 ,\n",
       "       0.0634428 , 1.06699828, 1.06699828, 0.0634428 , 1.06699828,\n",
       "       0.0634428 , 0.0634428 , 0.0634428 , 1.06699828, 1.06699828,\n",
       "       0.0634428 , 1.06699828, 0.0634428 , 0.0634428 , 1.06699828,\n",
       "       0.0634428 , 1.06699828, 0.0634428 , 1.06699828, 0.0634428 ,\n",
       "       1.06699828, 0.0634428 , 0.0634428 , 0.0634428 , 1.06699828,\n",
       "       1.06699828, 0.0634428 , 1.06699828, 0.0634428 , 0.0634428 ,\n",
       "       1.06699828, 1.06699828, 0.0634428 , 0.0634428 , 1.06699828,\n",
       "       0.0634428 , 0.0634428 , 0.0634428 , 1.06699828, 0.0634428 ,\n",
       "       0.0634428 , 1.06699828, 1.06699828, 0.0634428 , 0.0634428 ,\n",
       "       0.0634428 , 0.0634428 , 1.06699828, 0.0634428 , 0.0634428 ,\n",
       "       1.06699828, 1.06699828, 0.0634428 , 1.06699828, 1.06699828,\n",
       "       0.0634428 , 1.06699828, 0.0634428 , 1.06699828, 0.0634428 ,\n",
       "       0.0634428 , 1.06699828, 1.06699828, 0.0634428 , 1.06699828,\n",
       "       1.06699828, 0.0634428 , 1.06699828, 1.06699828, 1.06699828,\n",
       "       1.06699828, 1.06699828, 0.0634428 , 1.06699828, 0.0634428 ,\n",
       "       1.06699828, 0.0634428 , 0.0634428 , 0.0634428 , 1.06699828,\n",
       "       0.0634428 , 0.0634428 , 1.06699828, 0.0634428 , 0.0634428 ,\n",
       "       1.06699828, 0.0634428 , 1.06699828, 1.06699828, 1.06699828,\n",
       "       0.0634428 , 0.0634428 , 1.06699828, 0.0634428 , 0.0634428 ,\n",
       "       1.06699828, 1.06699828, 1.06699828, 1.06699828, 1.06699828,\n",
       "       0.0634428 , 1.06699828, 0.0634428 , 0.0634428 , 1.06699828,\n",
       "       0.0634428 , 0.0634428 , 0.0634428 , 1.06699828, 0.0634428 ,\n",
       "       1.06699828, 0.0634428 , 0.0634428 , 0.0634428 , 1.06699828,\n",
       "       0.0634428 , 1.06699828, 0.0634428 , 0.0634428 , 0.0634428 ,\n",
       "       1.06699828, 0.0634428 , 1.06699828, 0.0634428 , 1.06699828,\n",
       "       1.06699828, 0.0634428 , 1.06699828, 0.0634428 , 0.0634428 ,\n",
       "       1.06699828, 0.0634428 , 1.06699828, 1.06699828, 1.06699828,\n",
       "       1.06699828, 1.06699828, 1.06699828, 0.0634428 , 1.06699828,\n",
       "       0.0634428 , 1.06699828, 1.06699828, 1.06699828, 0.0634428 ,\n",
       "       0.0634428 , 1.06699828, 1.06699828, 0.0634428 , 0.0634428 ,\n",
       "       0.0634428 , 1.06699828, 0.0634428 , 1.06699828, 0.0634428 ,\n",
       "       0.0634428 , 0.0634428 , 0.0634428 , 0.0634428 , 0.0634428 ,\n",
       "       1.06699828, 0.0634428 , 0.0634428 , 1.06699828, 1.06699828,\n",
       "       0.0634428 , 1.06699828, 1.06699828, 0.0634428 , 1.06699828,\n",
       "       0.0634428 , 1.06699828, 1.06699828])"
      ]
     },
     "execution_count": 25,
     "metadata": {},
     "output_type": "execute_result"
    }
   ],
   "source": [
    "#Prediction variables\n",
    "y_pred"
   ]
  },
  {
   "cell_type": "code",
   "execution_count": 26,
   "id": "47068ee4",
   "metadata": {},
   "outputs": [],
   "source": [
    "#Generate model R2 score \n",
    "from sklearn.metrics import r2_score\n",
    "score=r2_score(y_test,y_pred)"
   ]
  },
  {
   "cell_type": "code",
   "execution_count": 27,
   "id": "193e56ad",
   "metadata": {},
   "outputs": [
    {
     "data": {
      "text/plain": [
       "0.98291275054752"
      ]
     },
     "execution_count": 27,
     "metadata": {},
     "output_type": "execute_result"
    }
   ],
   "source": [
    "score"
   ]
  },
  {
   "cell_type": "code",
   "execution_count": 28,
   "id": "0c1b78a3",
   "metadata": {},
   "outputs": [],
   "source": [
    "from sklearn.ensemble import RandomForestClassifier\n",
    "from yellowbrick.datasets import load_occupancy\n",
    "from yellowbrick.model_selection import FeatureImportances"
   ]
  },
  {
   "cell_type": "code",
   "execution_count": 29,
   "id": "cdd66275",
   "metadata": {},
   "outputs": [
    {
     "data": {
      "image/png": "[encoded data removed]",
      "text/plain": [
       "<Figure size 576x396 with 1 Axes>"
      ]
     },
     "metadata": {},
     "output_type": "display_data"
    },
    {
     "data": {
      "text/plain": [
       "<AxesSubplot:title={'center':'Feature Importances of 15 Features using RandomForestClassifier'}, xlabel='relative importance'>"
      ]
     },
     "execution_count": 29,
     "metadata": {},
     "output_type": "execute_result"
    }
   ],
   "source": [
    "# Using Random Forest Classifier to identify feature importance\n",
    "\n",
    "model = RandomForestClassifier(n_estimators=10)\n",
    "viz = FeatureImportances(model)\n",
    "viz.fit(X, y)\n",
    "viz.show()"
   ]
  },
  {
   "cell_type": "code",
   "execution_count": 30,
   "id": "abe856ce",
   "metadata": {},
   "outputs": [],
   "source": [
    "#Importing libaries to visualize data\n",
    "\n",
    "import matplotlib.pyplot as plt\n",
    "import seaborn as sns"
   ]
  },
  {
   "cell_type": "code",
   "execution_count": 31,
   "id": "b4cfc000",
   "metadata": {},
   "outputs": [
    {
     "data": {
      "text/plain": [
       "<AxesSubplot:xlabel='NObeyesdad', ylabel='Gender'>"
      ]
     },
     "execution_count": 31,
     "metadata": {},
     "output_type": "execute_result"
    },
    {
     "data": {
      "image/png": "[encoded data removed]",
      "text/plain": [
       "<Figure size 2880x720 with 1 Axes>"
      ]
     },
     "metadata": {},
     "output_type": "display_data"
    }
   ],
   "source": [
    "# Plotting data\n",
    "\n",
    "plt.figure(figsize=(40,10))\n",
    "sns.barplot(x = 'NObeyesdad', y = 'Gender', data = data)"
   ]
  },
  {
   "cell_type": "code",
   "execution_count": 32,
   "id": "fc465f24",
   "metadata": {},
   "outputs": [
    {
     "name": "stderr",
     "output_type": "stream",
     "text": [
      "*c* argument looks like a single numeric RGB or RGBA sequence, which should be avoided as value-mapping will have precedence in case its length matches with *x* & *y*.  Please use the *color* keyword-argument or provide a 2-D array with a single row if you intend to specify the same RGB or RGBA value for all points.\n"
     ]
    },
    {
     "data": {
      "text/plain": [
       "<AxesSubplot:xlabel='Age', ylabel='NObeyesdad'>"
      ]
     },
     "execution_count": 32,
     "metadata": {},
     "output_type": "execute_result"
    },
    {
     "data": {
      "image/png": "[encoded data removed]",
      "text/plain": [
       "<Figure size 576x396 with 1 Axes>"
      ]
     },
     "metadata": {},
     "output_type": "display_data"
    }
   ],
   "source": [
    "data.plot.scatter(x = 'Age', y = 'NObeyesdad')"
   ]
  },
  {
   "cell_type": "code",
   "execution_count": 33,
   "id": "b9b0c697",
   "metadata": {},
   "outputs": [
    {
     "data": {
      "text/html": [
       "<div>\n",
       "<style scoped>\n",
       "    .dataframe tbody tr th:only-of-type {\n",
       "        vertical-align: middle;\n",
       "    }\n",
       "\n",
       "    .dataframe tbody tr th {\n",
       "        vertical-align: top;\n",
       "    }\n",
       "\n",
       "    .dataframe thead th {\n",
       "        text-align: right;\n",
       "    }\n",
       "</style>\n",
       "<table border=\"1\" class=\"dataframe\">\n",
       "  <thead>\n",
       "    <tr style=\"text-align: right;\">\n",
       "      <th></th>\n",
       "      <th>Gender</th>\n",
       "      <th>Age</th>\n",
       "      <th>Height</th>\n",
       "      <th>family_history_with_overweight</th>\n",
       "      <th>FAVC</th>\n",
       "      <th>FCVC</th>\n",
       "      <th>NCP</th>\n",
       "      <th>CAEC</th>\n",
       "      <th>SMOKE</th>\n",
       "      <th>CH2O</th>\n",
       "      <th>SCC</th>\n",
       "      <th>FAF</th>\n",
       "      <th>TUE</th>\n",
       "      <th>CALC</th>\n",
       "      <th>MTRANS</th>\n",
       "      <th>NObeyesdad</th>\n",
       "    </tr>\n",
       "  </thead>\n",
       "  <tbody>\n",
       "    <tr>\n",
       "      <th>0</th>\n",
       "      <td>0</td>\n",
       "      <td>21.0</td>\n",
       "      <td>1.62</td>\n",
       "      <td>1</td>\n",
       "      <td>0</td>\n",
       "      <td>2.0</td>\n",
       "      <td>3.0</td>\n",
       "      <td>2</td>\n",
       "      <td>0</td>\n",
       "      <td>2.0</td>\n",
       "      <td>0</td>\n",
       "      <td>0.0</td>\n",
       "      <td>1.0</td>\n",
       "      <td>3</td>\n",
       "      <td>3</td>\n",
       "      <td>1</td>\n",
       "    </tr>\n",
       "    <tr>\n",
       "      <th>1</th>\n",
       "      <td>0</td>\n",
       "      <td>21.0</td>\n",
       "      <td>1.52</td>\n",
       "      <td>1</td>\n",
       "      <td>0</td>\n",
       "      <td>3.0</td>\n",
       "      <td>3.0</td>\n",
       "      <td>2</td>\n",
       "      <td>1</td>\n",
       "      <td>3.0</td>\n",
       "      <td>1</td>\n",
       "      <td>3.0</td>\n",
       "      <td>0.0</td>\n",
       "      <td>2</td>\n",
       "      <td>3</td>\n",
       "      <td>1</td>\n",
       "    </tr>\n",
       "    <tr>\n",
       "      <th>2</th>\n",
       "      <td>1</td>\n",
       "      <td>23.0</td>\n",
       "      <td>1.80</td>\n",
       "      <td>1</td>\n",
       "      <td>0</td>\n",
       "      <td>2.0</td>\n",
       "      <td>3.0</td>\n",
       "      <td>2</td>\n",
       "      <td>0</td>\n",
       "      <td>2.0</td>\n",
       "      <td>0</td>\n",
       "      <td>2.0</td>\n",
       "      <td>1.0</td>\n",
       "      <td>1</td>\n",
       "      <td>3</td>\n",
       "      <td>1</td>\n",
       "    </tr>\n",
       "    <tr>\n",
       "      <th>3</th>\n",
       "      <td>1</td>\n",
       "      <td>27.0</td>\n",
       "      <td>1.80</td>\n",
       "      <td>0</td>\n",
       "      <td>0</td>\n",
       "      <td>3.0</td>\n",
       "      <td>3.0</td>\n",
       "      <td>2</td>\n",
       "      <td>0</td>\n",
       "      <td>2.0</td>\n",
       "      <td>0</td>\n",
       "      <td>2.0</td>\n",
       "      <td>0.0</td>\n",
       "      <td>1</td>\n",
       "      <td>4</td>\n",
       "      <td>5</td>\n",
       "    </tr>\n",
       "    <tr>\n",
       "      <th>4</th>\n",
       "      <td>1</td>\n",
       "      <td>22.0</td>\n",
       "      <td>1.78</td>\n",
       "      <td>0</td>\n",
       "      <td>0</td>\n",
       "      <td>2.0</td>\n",
       "      <td>1.0</td>\n",
       "      <td>2</td>\n",
       "      <td>0</td>\n",
       "      <td>2.0</td>\n",
       "      <td>0</td>\n",
       "      <td>0.0</td>\n",
       "      <td>0.0</td>\n",
       "      <td>2</td>\n",
       "      <td>3</td>\n",
       "      <td>6</td>\n",
       "    </tr>\n",
       "  </tbody>\n",
       "</table>\n",
       "</div>"
      ],
      "text/plain": [
       "   Gender   Age  Height  family_history_with_overweight  FAVC  FCVC  NCP  \\\n",
       "0       0  21.0    1.62                               1     0   2.0  3.0   \n",
       "1       0  21.0    1.52                               1     0   3.0  3.0   \n",
       "2       1  23.0    1.80                               1     0   2.0  3.0   \n",
       "3       1  27.0    1.80                               0     0   3.0  3.0   \n",
       "4       1  22.0    1.78                               0     0   2.0  1.0   \n",
       "\n",
       "   CAEC  SMOKE  CH2O  SCC  FAF  TUE  CALC  MTRANS  NObeyesdad  \n",
       "0     2      0   2.0    0  0.0  1.0     3       3           1  \n",
       "1     2      1   3.0    1  3.0  0.0     2       3           1  \n",
       "2     2      0   2.0    0  2.0  1.0     1       3           1  \n",
       "3     2      0   2.0    0  2.0  0.0     1       4           5  \n",
       "4     2      0   2.0    0  0.0  0.0     2       3           6  "
      ]
     },
     "execution_count": 33,
     "metadata": {},
     "output_type": "execute_result"
    }
   ],
   "source": [
    "data.head()"
   ]
  },
  {
   "cell_type": "code",
   "execution_count": 34,
   "id": "debe37bd",
   "metadata": {},
   "outputs": [],
   "source": [
    "ob=data.groupby('NObeyesdad')['Gender'].sum()"
   ]
  },
  {
   "cell_type": "code",
   "execution_count": 35,
   "id": "328c3d58",
   "metadata": {},
   "outputs": [
    {
     "data": {
      "text/plain": [
       "<AxesSubplot:xlabel='NObeyesdad', ylabel='Gender'>"
      ]
     },
     "execution_count": 35,
     "metadata": {},
     "output_type": "execute_result"
    },
    {
     "data": {
      "image/png": "[encoded data removed]",
      "text/plain": [
       "<Figure size 576x396 with 1 Axes>"
      ]
     },
     "metadata": {},
     "output_type": "display_data"
    }
   ],
   "source": [
    "sns.barplot(x=data['NObeyesdad'], y=ob, data=data)"
   ]
  }
 ],
 "metadata": {
  "kernelspec": {
   "display_name": "Python 3",
   "language": "python",
   "name": "python3"
  },
  "language_info": {
   "codemirror_mode": {
    "name": "ipython",
    "version": 3
   },
   "file_extension": ".py",
   "mimetype": "text/x-python",
   "name": "python",
   "nbconvert_exporter": "python",
   "pygments_lexer": "ipython3",
   "version": "3.8.8"
  }
 },
 "nbformat": 4,
 "nbformat_minor": 5
}
